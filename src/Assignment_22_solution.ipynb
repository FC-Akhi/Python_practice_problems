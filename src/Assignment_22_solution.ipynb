{
 "cells": [
  {
   "cell_type": "markdown",
   "id": "82ba36e5",
   "metadata": {},
   "source": [
    "1. What is the result of the code, and explain?\n",
    "\n",
    "\n",
    "X = 'iNeuron'\n",
    "\n",
    "def func():\n",
    "\n",
    "    print(X)\n",
    "\n",
    "\n",
    "func()\n",
    "\n",
    "**Ans:** When the function func() is called, it attempts to print the value of X. Since X is defined outside of the function, it is considered a global variable and can be accessed within the function's scope."
   ]
  },
  {
   "cell_type": "code",
   "execution_count": 3,
   "id": "c96ec8df",
   "metadata": {},
   "outputs": [
    {
     "name": "stdout",
     "output_type": "stream",
     "text": [
      "iNeuron\n"
     ]
    }
   ],
   "source": [
    "# global variable which can be accessed from inside the function\n",
    "X = 'iNeuron'\n",
    "\n",
    "def func():\n",
    "\n",
    "    print(X)\n",
    "\n",
    "\n",
    "func()"
   ]
  },
  {
   "attachments": {},
   "cell_type": "markdown",
   "id": "375a02d1",
   "metadata": {},
   "source": [
    "## 2. What is the result of the code, and explain?\n",
    "\n",
    "X = 'iNeuron'\n",
    "\n",
    "def func():\n",
    "\n",
    "    X = 'NI!'\n",
    "\n",
    "\n",
    "func()\n",
    "\n",
    "print(X)\n",
    "\n",
    "\n",
    "**Ans:** It will print \"iNeuron\" which is value of Global variable X\n",
    "\n",
    "![global_vs_local_var.png](attachment:global_vs_local_var.png)"
   ]
  },
  {
   "cell_type": "code",
   "execution_count": 4,
   "id": "eca82cdb",
   "metadata": {},
   "outputs": [
    {
     "name": "stdout",
     "output_type": "stream",
     "text": [
      "iNeuron\n"
     ]
    }
   ],
   "source": [
    "X = 'iNeuron'\n",
    "\n",
    "def func():\n",
    "\n",
    "    X = 'NI!'\n",
    "\n",
    "func()\n",
    "\n",
    "print(X)"
   ]
  },
  {
   "attachments": {},
   "cell_type": "markdown",
   "id": "167ab0b8",
   "metadata": {},
   "source": [
    "## 3. What does this code print, and why?\n",
    "\n",
    "\n",
    "X = 'iNeuron'\n",
    "\n",
    "def func():\n",
    "    \n",
    "    X = 'NI'\n",
    "    \n",
    "    print(X)\n",
    "\n",
    "\n",
    "func()\n",
    "\n",
    "print(X)\n",
    "\n",
    "**Ans:**\n",
    "![global_vs_local_var_1.png](attachment:global_vs_local_var_1.png)"
   ]
  },
  {
   "cell_type": "code",
   "execution_count": 5,
   "id": "322f75b8",
   "metadata": {},
   "outputs": [
    {
     "name": "stdout",
     "output_type": "stream",
     "text": [
      "NI\n",
      "iNeuron\n"
     ]
    }
   ],
   "source": [
    "X = 'iNeuron'\n",
    "\n",
    "def func():\n",
    "    \n",
    "    X = 'NI'\n",
    "    \n",
    "    print(X)\n",
    "\n",
    "\n",
    "func()\n",
    "\n",
    "print(X)"
   ]
  },
  {
   "attachments": {},
   "cell_type": "markdown",
   "id": "3f705a94",
   "metadata": {},
   "source": [
    "## 4. What the output does this code produce? Why?\n",
    "\n",
    "\n",
    "X = 'iNeuron'\n",
    "\n",
    "def func():\n",
    "\n",
    "    global X\n",
    "    \n",
    "    X = 'NI'\n",
    "\n",
    "\n",
    "func()\n",
    "\n",
    "print(X)\n",
    "\n",
    "**Ans:**\n",
    "![global_vs_local_var_2.png](attachment:global_vs_local_var_2.png)"
   ]
  },
  {
   "cell_type": "code",
   "execution_count": 7,
   "id": "d4b7ae50",
   "metadata": {},
   "outputs": [
    {
     "name": "stdout",
     "output_type": "stream",
     "text": [
      "NI\n"
     ]
    }
   ],
   "source": [
    "X = 'iNeuron'\n",
    "\n",
    "def func():\n",
    "\n",
    "    global X\n",
    "    \n",
    "    X = 'NI'\n",
    "\n",
    "\n",
    "func()\n",
    "\n",
    "print(X)"
   ]
  },
  {
   "attachments": {},
   "cell_type": "markdown",
   "id": "66e8f10a",
   "metadata": {},
   "source": [
    "## 5. What about this code—what’s the output, and why?\n",
    "\n",
    "\n",
    "X = 'iNeuron'\n",
    "\n",
    "def func():\n",
    "    \n",
    "    X = 'NI'\n",
    "    \n",
    "    def nested():\n",
    "        \n",
    "        print(X)\n",
    "    \n",
    "    nested()\n",
    "\n",
    "\n",
    "func()\n",
    "\n",
    "print(X)\n",
    "\n",
    "**Ans:**\n",
    "![global_vs_local_var_3.png](attachment:global_vs_local_var_3.png)\n"
   ]
  },
  {
   "cell_type": "code",
   "execution_count": 8,
   "id": "61bc8fe8",
   "metadata": {},
   "outputs": [
    {
     "name": "stdout",
     "output_type": "stream",
     "text": [
      "NI\n",
      "iNeuron\n"
     ]
    }
   ],
   "source": [
    "X = 'iNeuron'\n",
    "\n",
    "def func():\n",
    "    \n",
    "    X = 'NI'\n",
    "    \n",
    "    def nested():\n",
    "        \n",
    "        print(X)\n",
    "    \n",
    "    nested()\n",
    "\n",
    "\n",
    "func()\n",
    "\n",
    "print(X)"
   ]
  },
  {
   "attachments": {},
   "cell_type": "markdown",
   "id": "ac7e4270",
   "metadata": {},
   "source": [
    "## 6. How about this code: what is its output in Python 3, and explain?\n",
    "\n",
    "\n",
    "def func():\n",
    "    \n",
    "    X = 'NI'\n",
    "    \n",
    "    def nested():\n",
    "        \n",
    "        nonlocal X\n",
    "        X = 'Spam'\n",
    "    \n",
    "    nested()\n",
    "    \n",
    "    print(X)\n",
    "\n",
    "\n",
    "func()\n",
    "\n",
    "**Ans:**\n",
    "![global_vs_local_var_4.png](attachment:global_vs_local_var_4.png)"
   ]
  },
  {
   "cell_type": "code",
   "execution_count": 9,
   "id": "3d0d913f",
   "metadata": {},
   "outputs": [
    {
     "name": "stdout",
     "output_type": "stream",
     "text": [
      "Spam\n"
     ]
    }
   ],
   "source": [
    "def func():\n",
    "    \n",
    "    X = 'NI'\n",
    "    \n",
    "    def nested():\n",
    "        \n",
    "        nonlocal X\n",
    "        X = 'Spam'\n",
    "    \n",
    "    nested()\n",
    "    \n",
    "    print(X)\n",
    "\n",
    "\n",
    "func()"
   ]
  },
  {
   "cell_type": "code",
   "execution_count": null,
   "id": "861dafe3",
   "metadata": {},
   "outputs": [],
   "source": []
  }
 ],
 "metadata": {
  "kernelspec": {
   "display_name": "Python 3 (ipykernel)",
   "language": "python",
   "name": "python3"
  },
  "language_info": {
   "codemirror_mode": {
    "name": "ipython",
    "version": 3
   },
   "file_extension": ".py",
   "mimetype": "text/x-python",
   "name": "python",
   "nbconvert_exporter": "python",
   "pygments_lexer": "ipython3",
   "version": "3.8.10"
  }
 },
 "nbformat": 4,
 "nbformat_minor": 5
}
