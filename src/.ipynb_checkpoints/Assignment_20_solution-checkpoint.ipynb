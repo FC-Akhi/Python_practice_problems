{
 "cells": [
  {
   "cell_type": "markdown",
   "id": "085e5a62",
   "metadata": {},
   "source": [
    "## 1. Set the variable test1 to the string 'This is a test of the emergency text system,' and save test1 to a file named test.txt.\n"
   ]
  },
  {
   "cell_type": "code",
   "execution_count": null,
   "id": "f1c68646",
   "metadata": {},
   "outputs": [],
   "source": [
    "test1 = \"This is a test of the emergency text system,\"\n",
    "\n"
   ]
  },
  {
   "cell_type": "markdown",
   "id": "b4cf5355",
   "metadata": {},
   "source": [
    "## 2. Read the contents of the file test.txt into the variable test2. Is there a difference between test 1 and test 2?\n"
   ]
  },
  {
   "cell_type": "markdown",
   "id": "0e3320d0",
   "metadata": {},
   "source": [
    "## 3. Create a CSV file called books.csv by using these lines:\n",
    "title,author,year\n",
    "\n",
    "The Weirdstone of Brisingamen,Alan Garner,1960\n",
    "\n",
    "Perdido Street Station,China Miéville,2000\n",
    "\n",
    "Thud!,Terry Pratchett,2005\n",
    "\n",
    "The Spellman Files,Lisa Lutz,2007\n",
    "\n",
    "Small Gods,Terry Pratchett,1992"
   ]
  },
  {
   "cell_type": "markdown",
   "id": "ad7019f7",
   "metadata": {},
   "source": [
    "## 4. Use the sqlite3 module to create a SQLite database called books.db, and a table called books with these fields: title (text), author (text), and year (integer).\n"
   ]
  },
  {
   "cell_type": "markdown",
   "id": "e5fd10be",
   "metadata": {},
   "source": [
    "## 5. Read books.csv and insert its data into the book table.\n"
   ]
  },
  {
   "cell_type": "markdown",
   "id": "161c39d6",
   "metadata": {},
   "source": [
    "## 6. Select and print the title column from the book table in alphabetical order.\n"
   ]
  },
  {
   "cell_type": "markdown",
   "id": "004bacc6",
   "metadata": {},
   "source": [
    "## 7. From the book table, select and print all columns in the order of publication.\n"
   ]
  },
  {
   "cell_type": "markdown",
   "id": "21e554e7",
   "metadata": {},
   "source": [
    "## 8. Use the sqlalchemy module to connect to the sqlite3 database books.db that you just made in exercise 6.\n"
   ]
  },
  {
   "cell_type": "markdown",
   "id": "9f294665",
   "metadata": {},
   "source": [
    "## 9. Install the Redis server and the Python redis library (pip install redis) on your computer. Create a Redis hash called test with the fields count (1) and name ('Fester Bestertester'). Print all the fields for test.\n"
   ]
  },
  {
   "cell_type": "markdown",
   "id": "000425dd",
   "metadata": {},
   "source": [
    "## 10. Increment the count field of test and print it."
   ]
  },
  {
   "cell_type": "code",
   "execution_count": null,
   "id": "7a4a9461",
   "metadata": {},
   "outputs": [],
   "source": []
  }
 ],
 "metadata": {
  "kernelspec": {
   "display_name": "Python 3 (ipykernel)",
   "language": "python",
   "name": "python3"
  },
  "language_info": {
   "codemirror_mode": {
    "name": "ipython",
    "version": 3
   },
   "file_extension": ".py",
   "mimetype": "text/x-python",
   "name": "python",
   "nbconvert_exporter": "python",
   "pygments_lexer": "ipython3",
   "version": "3.8.10"
  }
 },
 "nbformat": 4,
 "nbformat_minor": 5
}
