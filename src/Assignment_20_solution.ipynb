{
 "cells": [
  {
   "cell_type": "markdown",
   "id": "085e5a62",
   "metadata": {},
   "source": [
    "## 1. Set the variable test1 to the string 'This is a test of the emergency text system' and save test1 to a file named test.txt.\n"
   ]
  },
  {
   "cell_type": "code",
   "execution_count": 19,
   "id": "f1c68646",
   "metadata": {},
   "outputs": [],
   "source": [
    "# declare variable\n",
    "test1 = \"This is a test of the emergency text system\"\n",
    "\n",
    "# create a file and write to that file\n",
    "with open(\"assets/test.txt\", \"w\") as file: # with this statement file will close automatically.\n",
    "    file.write(test1)"
   ]
  },
  {
   "cell_type": "markdown",
   "id": "b4cf5355",
   "metadata": {},
   "source": [
    "## 2. Read the contents of the file test.txt into the variable test2. Is there a difference between test1 and test2?"
   ]
  },
  {
   "cell_type": "code",
   "execution_count": 20,
   "id": "bd7cebc4",
   "metadata": {},
   "outputs": [
    {
     "name": "stdout",
     "output_type": "stream",
     "text": [
      "This is a test of the emergency text system\n",
      "There is no difference between test1 and test2\n"
     ]
    }
   ],
   "source": [
    "# open the file and read it\n",
    "with open(\"assets/test.txt\", \"r\") as file:\n",
    "    test2 = file.read()\n",
    "    \n",
    "print(test2)\n",
    "\n",
    "\n",
    "if test1 == test2:\n",
    "    print(\"There is no difference between test1 and test2\")"
   ]
  },
  {
   "cell_type": "markdown",
   "id": "0e3320d0",
   "metadata": {},
   "source": [
    "## 3. Create a CSV file called books.csv by using these lines:\n",
    "title,author,year\n",
    "\n",
    "The Weirdstone of Brisingamen,Alan Garner,1960\n",
    "\n",
    "Perdido Street Station,China Miéville,2000\n",
    "\n",
    "Thud!,Terry Pratchett,2005\n",
    "\n",
    "The Spellman Files,Lisa Lutz,2007\n",
    "\n",
    "Small Gods,Terry Pratchett,1992"
   ]
  },
  {
   "cell_type": "code",
   "execution_count": 28,
   "id": "dd7f8fd7",
   "metadata": {},
   "outputs": [
    {
     "name": "stdout",
     "output_type": "stream",
     "text": [
      "CSV file 'assets/books.csv' created successfully.\n"
     ]
    }
   ],
   "source": [
    "# create a csv format file and store some lines    \n",
    "data = [\n",
    "    ['title', 'author', 'year'],\n",
    "    ['The Weirdstone of Brisingamen', 'Alan Garner', '1960'],\n",
    "    ['Perdido Street Station', 'China Miéville', '2000'],\n",
    "    ['Thud!', 'Terry Pratchett', '2005'],\n",
    "    ['The Spellman Files', 'Lisa Lutz', '2007'],\n",
    "    ['Small Gods', 'Terry Pratchett', '1992']\n",
    "]\n",
    "\n",
    "filename = \"assets/books.csv\"\n",
    "\n",
    "\n",
    "\n",
    "def createFileandWrite(f, d):\n",
    "    \n",
    "    with open(f, 'w', newline = '') as file:\n",
    "        writer= csv.writer(file)\n",
    "        writer.writerows(d)\n",
    "    \n",
    "    print(f\"CSV file '{filename}' created successfully.\")\n",
    "    \n",
    "\n",
    "createFileandWrite(filename, data)\n",
    "    \n",
    "\n",
    "\n"
   ]
  },
  {
   "cell_type": "markdown",
   "id": "ad7019f7",
   "metadata": {},
   "source": [
    "## 4. Use the sqlite3 module to create a SQLite database called books.db, and a table called books with these fields: title (text), author (text), and year (integer).\n"
   ]
  },
  {
   "cell_type": "code",
   "execution_count": 29,
   "id": "4d14fe24",
   "metadata": {},
   "outputs": [
    {
     "name": "stdout",
     "output_type": "stream",
     "text": [
      "SQLite database 'books.db' and table 'books' created successfully!!\n"
     ]
    }
   ],
   "source": [
    "import sqlite3\n",
    "\n",
    "# create a database and make a connection\n",
    "conn = sqlite3.connect(\"books.db\")\n",
    "\n",
    "cursor = conn.cursor()\n",
    "\n",
    "cursor.execute(\"\"\"\n",
    "    CREATE TABLE books (\n",
    "        title TEXT,\n",
    "        author TEXT,\n",
    "        year INTEGER\n",
    "    )\n",
    "\"\"\")\n",
    "\n",
    "# commit the changes and close the connection\n",
    "conn.commit()\n",
    "conn.close()\n",
    "\n",
    "print(\"SQLite database 'books.db' and table 'books' created successfully!!\")"
   ]
  },
  {
   "cell_type": "markdown",
   "id": "e5fd10be",
   "metadata": {},
   "source": [
    "## 5. Read books.csv and insert its data into the book table.\n"
   ]
  },
  {
   "cell_type": "code",
   "execution_count": 30,
   "id": "ed641bda",
   "metadata": {},
   "outputs": [
    {
     "name": "stdout",
     "output_type": "stream",
     "text": [
      "['The Weirdstone of Brisingamen', 'Alan Garner', '1960']\n",
      "['Perdido Street Station', 'China Miéville', '2000']\n",
      "['Thud!', 'Terry Pratchett', '2005']\n",
      "['The Spellman Files', 'Lisa Lutz', '2007']\n",
      "['Small Gods', 'Terry Pratchett', '1992']\n"
     ]
    }
   ],
   "source": [
    "import csv\n",
    "\n",
    "# create a database and make a connection\n",
    "conn = sqlite3.connect(\"books.db\")\n",
    "\n",
    "cursor = conn.cursor()\n",
    "\n",
    "with open(\"assets/books.csv\", \"r\") as csvfile:\n",
    "    reader = csv.reader(csvfile)\n",
    "    \n",
    "    next(reader) # skip the header row\n",
    "    \n",
    "    for row in reader:\n",
    "        \n",
    "        print( row)\n",
    "        title, author, year = row\n",
    "        \n",
    "        cursor.execute(\"INSERT INTO books VALUES (?, ?, ?)\", (title, author, int(year)))\n",
    "\n",
    "# commit the changes and close the connection\n",
    "conn.commit()\n",
    "conn.close()    "
   ]
  },
  {
   "cell_type": "markdown",
   "id": "161c39d6",
   "metadata": {},
   "source": [
    "## 6. Select and print the title column from the book table in alphabetical order.\n"
   ]
  },
  {
   "cell_type": "code",
   "execution_count": 39,
   "id": "3a7f8460",
   "metadata": {},
   "outputs": [
    {
     "name": "stdout",
     "output_type": "stream",
     "text": [
      "Perdido Street Station\n",
      "Small Gods\n",
      "The Spellman Files\n",
      "The Weirdstone of Brisingamen\n",
      "Thud!\n"
     ]
    }
   ],
   "source": [
    "# create a database and make a connection\n",
    "conn = sqlite3.connect(\"books.db\")\n",
    "\n",
    "cursor = conn.cursor()\n",
    "\n",
    "# select the title column in alphabetical order\n",
    "cursor.execute(\"SELECT title FROM books ORDER by title ASC\")\n",
    "\n",
    "# fetch all the records of title column\n",
    "records = cursor.fetchall()\n",
    "\n",
    "# print the title column\n",
    "for r in records:\n",
    "    print(r[0])\n",
    "    \n",
    "# close the connection\n",
    "conn.close()"
   ]
  },
  {
   "cell_type": "markdown",
   "id": "004bacc6",
   "metadata": {},
   "source": [
    "## 7. From the book table, select and print all columns in the order of publication.\n"
   ]
  },
  {
   "cell_type": "code",
   "execution_count": 44,
   "id": "9e839c19",
   "metadata": {},
   "outputs": [
    {
     "name": "stdout",
     "output_type": "stream",
     "text": [
      "('The Weirdstone of Brisingamen', 'Alan Garner', 1960)\n",
      "('Small Gods', 'Terry Pratchett', 1992)\n",
      "('Perdido Street Station', 'China Miéville', 2000)\n",
      "('Thud!', 'Terry Pratchett', 2005)\n",
      "('The Spellman Files', 'Lisa Lutz', 2007)\n"
     ]
    }
   ],
   "source": [
    "# create a database and make a connection\n",
    "conn = sqlite3.connect(\"books.db\")\n",
    "\n",
    "cursor = conn.cursor()\n",
    "\n",
    "# select all columns according to the order of publication year\n",
    "cursor.execute(\"SELECT * FROM books ORDER by year ASC\")\n",
    "\n",
    "# fetch all the records\n",
    "records = cursor.fetchall()\n",
    "\n",
    "\n",
    "# print the all records\n",
    "for r in records:\n",
    "    print(r)\n",
    "    \n",
    "    \n",
    "# close the connection\n",
    "conn.close()\n"
   ]
  },
  {
   "cell_type": "markdown",
   "id": "21e554e7",
   "metadata": {},
   "source": [
    "## 8. Use the sqlalchemy module to connect to the sqlite3 database books.db that you just made in exercise 6.\n"
   ]
  },
  {
   "cell_type": "code",
   "execution_count": 47,
   "id": "e2646814",
   "metadata": {},
   "outputs": [
    {
     "name": "stdout",
     "output_type": "stream",
     "text": [
      "Collecting SQLAlchemy\n",
      "  Downloading SQLAlchemy-2.0.17-cp38-cp38-manylinux_2_17_x86_64.manylinux2014_x86_64.whl (2.8 MB)\n",
      "\u001b[2K     \u001b[38;2;114;156;31m━━━━━━━━━━━━━━━━━━━━━━━━━━━━━━━━━━━━━━━━\u001b[0m \u001b[32m2.8/2.8 MB\u001b[0m \u001b[31m1.1 MB/s\u001b[0m eta \u001b[36m0:00:00\u001b[0mm eta \u001b[36m0:00:01\u001b[0m0:01\u001b[0m:01\u001b[0m\n",
      "\u001b[?25hRequirement already satisfied: typing-extensions>=4.2.0 in /home/mutant/python-projects/ineuron_dashBoard_assignments/py3env/lib/python3.8/site-packages (from SQLAlchemy) (4.6.3)\n",
      "Collecting greenlet!=0.4.17 (from SQLAlchemy)\n",
      "  Downloading greenlet-2.0.2-cp38-cp38-manylinux_2_17_x86_64.manylinux2014_x86_64.whl (618 kB)\n",
      "\u001b[2K     \u001b[38;2;114;156;31m━━━━━━━━━━━━━━━━━━━━━━━━━━━━━━━━━━━━━━━\u001b[0m \u001b[32m618.5/618.5 kB\u001b[0m \u001b[31m1.4 MB/s\u001b[0m eta \u001b[36m0:00:00\u001b[0m MB/s\u001b[0m eta \u001b[36m0:00:01\u001b[0m:01\u001b[0m\n",
      "\u001b[?25hInstalling collected packages: greenlet, SQLAlchemy\n",
      "Successfully installed SQLAlchemy-2.0.17 greenlet-2.0.2\n"
     ]
    }
   ],
   "source": [
    "!pip install SQLAlchemy"
   ]
  },
  {
   "cell_type": "code",
   "execution_count": 48,
   "id": "fe6ef0ed",
   "metadata": {},
   "outputs": [
    {
     "name": "stdout",
     "output_type": "stream",
     "text": [
      "Engine(sqlite:///books.db)\n"
     ]
    }
   ],
   "source": [
    "from sqlalchemy import create_engine\n",
    "\n",
    "# connect to the SQLite database using SQLAlchemy\n",
    "engine = create_engine('sqlite:///books.db')\n",
    "\n",
    "print(engine)\n",
    "\n",
    "# close the database connection\n",
    "engine.dispose()"
   ]
  },
  {
   "cell_type": "markdown",
   "id": "9f294665",
   "metadata": {},
   "source": [
    "## 9. Install the Redis server and the Python redis library (pip install redis) on your computer. Create a Redis hash called test with the fields count (1) and name ('Fester Bestertester'). Print all the fields for test.\n",
    "\n",
    "**What is Redis server**\n",
    "\n",
    "Redis can be considered as a separate database system. **It is a NoSQL (non-relational) database** that is designed to store and retrieve data in key-value pairs. However, Redis can also be used in conjunction with primary databases like MySQL or PostgreSQL.\n",
    "\n",
    "In some cases, Redis is used as a standalone database where data is stored primarily in memory for fast access. It can act as the primary data store for applications that require high performance and low latency, especially for use cases such as caching, session management, and real-time analytics.\n"
   ]
  },
  {
   "cell_type": "code",
   "execution_count": 51,
   "id": "c47e1d90",
   "metadata": {},
   "outputs": [],
   "source": [
    "# !pip install redis"
   ]
  },
  {
   "cell_type": "code",
   "execution_count": 53,
   "id": "65818063",
   "metadata": {},
   "outputs": [
    {
     "name": "stdout",
     "output_type": "stream",
     "text": [
      "count: 1\n",
      "name: Fester Bestertester\n"
     ]
    }
   ],
   "source": [
    "import redis\n",
    "\n",
    "# Connect to Redis\n",
    "r = redis.Redis()\n",
    "\n",
    "# Create the hash with fields count and name\n",
    "r.hset('test', 'count', 1)\n",
    "r.hset('test', 'name', 'Fester Bestertester')\n",
    "\n",
    "# Get all fields from the hash\n",
    "fields = r.hgetall('test')\n",
    "\n",
    "# Print all fields\n",
    "for field, value in fields.items():\n",
    "    print(f\"{field.decode('utf-8')}: {value.decode('utf-8')}\")"
   ]
  },
  {
   "cell_type": "markdown",
   "id": "000425dd",
   "metadata": {},
   "source": [
    "## 10. Increment the count field of test and print it."
   ]
  },
  {
   "cell_type": "code",
   "execution_count": 54,
   "id": "7a4a9461",
   "metadata": {},
   "outputs": [
    {
     "name": "stdout",
     "output_type": "stream",
     "text": [
      "Updated count: 2\n"
     ]
    }
   ],
   "source": [
    "# connect to Redis\n",
    "r = redis.Redis()\n",
    "\n",
    "# increment the count field of test by 1\n",
    "r.hincrby('test', 'count', 1)\n",
    "\n",
    "# get the updated count value\n",
    "count = r.hget('test', 'count')\n",
    "\n",
    "# print the updated count\n",
    "print(\"Updated count:\", count.decode('utf-8'))"
   ]
  }
 ],
 "metadata": {
  "kernelspec": {
   "display_name": "Python 3 (ipykernel)",
   "language": "python",
   "name": "python3"
  },
  "language_info": {
   "codemirror_mode": {
    "name": "ipython",
    "version": 3
   },
   "file_extension": ".py",
   "mimetype": "text/x-python",
   "name": "python",
   "nbconvert_exporter": "python",
   "pygments_lexer": "ipython3",
   "version": "3.8.10"
  }
 },
 "nbformat": 4,
 "nbformat_minor": 5
}
