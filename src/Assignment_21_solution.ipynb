{
 "cells": [
  {
   "cell_type": "markdown",
   "id": "dd2b158e",
   "metadata": {},
   "source": [
    "## 1. Add the current date to the text file today.txt as a string."
   ]
  },
  {
   "cell_type": "code",
   "execution_count": 15,
   "id": "43f7a638",
   "metadata": {},
   "outputs": [],
   "source": [
    "# import date from dateime\n",
    "from datetime import date\n",
    "\n",
    "# create a file and store date\n",
    "with open(\"assets/today.txt\", \"w\") as file:\n",
    "    \n",
    "    file.write(str(date.today()))"
   ]
  },
  {
   "cell_type": "markdown",
   "id": "3a44edbd",
   "metadata": {},
   "source": [
    "## 2. Read the text file today.txt into the string today_string"
   ]
  },
  {
   "cell_type": "code",
   "execution_count": 16,
   "id": "66367acb",
   "metadata": {},
   "outputs": [
    {
     "name": "stdout",
     "output_type": "stream",
     "text": [
      "2023-07-02\n"
     ]
    }
   ],
   "source": [
    "# open the file and read\n",
    "with open(\"assets/today.txt\", \"r\") as file:\n",
    "    \n",
    "    # read file and store contents to a variable\n",
    "    today_string = file.read()\n",
    "    \n",
    "    # print the variable\n",
    "    print(today_string)"
   ]
  },
  {
   "cell_type": "markdown",
   "id": "0831e4d0",
   "metadata": {},
   "source": [
    "## 3. Parse the date from today_string"
   ]
  },
  {
   "cell_type": "code",
   "execution_count": 18,
   "id": "3565a9ef",
   "metadata": {},
   "outputs": [
    {
     "name": "stdout",
     "output_type": "stream",
     "text": [
      "2023-07-02 00:00:00\n",
      "02-July-2023\n"
     ]
    }
   ],
   "source": [
    "# import date from dateime\n",
    "from datetime import datetime\n",
    "\n",
    "# parse date\n",
    "parsed_date = datetime.strptime(today_string, \"%Y-%m-%d\")\n",
    "# format the date\n",
    "format_time = datetime.strftime(parsed_date, \"%d-%B-%Y\")\n",
    "\n",
    "# print\n",
    "print(parsed_date)\n",
    "print(format_time)"
   ]
  },
  {
   "cell_type": "markdown",
   "id": "a21bd594",
   "metadata": {},
   "source": [
    "## 4. List the files in your current directory"
   ]
  },
  {
   "cell_type": "code",
   "execution_count": 23,
   "id": "bc6520b1",
   "metadata": {},
   "outputs": [
    {
     "name": "stdout",
     "output_type": "stream",
     "text": [
      "/home/mutant/python-projects/ineuron_dashBoard_assignments/src\n",
      "['Assignment_24_ques.docx', 'books.db', 'Assignment_4_solution.ipynb', 'Assignment_3_solution.ipynb', 'Assignment_4_ques.docx', '.ipynb_checkpoints', 'Assignment_20_ques.docx', 'Assignment_21_solution.ipynb', 'Assignment_1_ques.docx', 'Assignment_20_solution.ipynb', 'Assignment_2_ques.docx', 'Assignment_1_solution.pdf', 'Assignment_22_ques.docx', 'Assignment_25_ques.docx', 'assets', 'Assignment_23_ques.docx', 'Assignment_3_ques.docx', 'Assignment_2_solution.pdf', '.~lock.Assignment_21_ques.docx#', 'Assignment_21_ques.docx']\n",
      "Assignment_24_ques.docx\n",
      "books.db\n",
      "Assignment_4_solution.ipynb\n",
      "Assignment_3_solution.ipynb\n",
      "Assignment_4_ques.docx\n",
      ".ipynb_checkpoints\n",
      "Assignment_20_ques.docx\n",
      "Assignment_21_solution.ipynb\n",
      "Assignment_1_ques.docx\n",
      "Assignment_20_solution.ipynb\n",
      "Assignment_2_ques.docx\n",
      "Assignment_1_solution.pdf\n",
      "Assignment_22_ques.docx\n",
      "Assignment_25_ques.docx\n",
      "assets\n",
      "Assignment_23_ques.docx\n",
      "Assignment_3_ques.docx\n",
      "Assignment_2_solution.pdf\n",
      ".~lock.Assignment_21_ques.docx#\n",
      "Assignment_21_ques.docx\n"
     ]
    }
   ],
   "source": [
    "import os\n",
    "\n",
    "# read the current working directory path\n",
    "current_dir = os.getcwd()\n",
    "\n",
    "# print the path\n",
    "print(current_dir)\n",
    "\n",
    "# fetch all files in a list format from current working directory\n",
    "current_dir_files_list = os.listdir(current_dir)\n",
    "\n",
    "# print all files one by one from the list of files\n",
    "for l in current_dir_files_list:\n",
    "    print(l)"
   ]
  },
  {
   "cell_type": "markdown",
   "id": "6e7c67fb",
   "metadata": {},
   "source": [
    "## 5. Create a list of all of the files in your parent directory (minimum five files should be available)"
   ]
  },
  {
   "cell_type": "code",
   "execution_count": 28,
   "id": "a357f250",
   "metadata": {},
   "outputs": [
    {
     "name": "stdout",
     "output_type": "stream",
     "text": [
      "/home/mutant/python-projects/ineuron_dashBoard_assignments\n",
      "file2.txt\n",
      "file5.txt\n",
      ".gitignore\n",
      "file1.txt\n",
      ".git\n",
      "file4.txt\n",
      "file3.txt\n",
      "py3env\n",
      "src\n"
     ]
    }
   ],
   "source": [
    "# read the parent directory path\n",
    "parent_dir = os.path.abspath(os.path.join(current_dir, os.pardir))\n",
    "\n",
    "# print the path\n",
    "print(parent_dir)\n",
    "\n",
    "# fetch all files in a list format from parent working directory\n",
    "parent_dir_files_list = os.listdir(parent_dir)\n",
    "\n",
    "# print all files one by one from the list of files\n",
    "for l in parent_dir_files_list:\n",
    "    print(l)"
   ]
  },
  {
   "cell_type": "markdown",
   "id": "44388c3f",
   "metadata": {},
   "source": [
    "## 6. Use multiprocessing to create three separate processes. Make each one wait a random number of seconds between one and five, print the current time, and then exit"
   ]
  },
  {
   "cell_type": "code",
   "execution_count": 45,
   "id": "40c9b43e",
   "metadata": {},
   "outputs": [
    {
     "name": "stdout",
     "output_type": "stream",
     "text": [
      "Process MainProcess waited for 1 seconds and printed at 01:07:47\n",
      "Process MainProcess waited for 5 seconds and printed at 01:07:52\n",
      "Process MainProcess waited for 4 seconds and printed at 01:07:56\n",
      "[<Process name='Process-1' pid=12018 parent=10003 stopped exitcode=0>, <Process name='Process-2' pid=12029 parent=10003 stopped exitcode=0>, <Process name='Process-3' pid=12030 parent=10003 started>]\n"
     ]
    }
   ],
   "source": [
    "import multiprocessing\n",
    "import random\n",
    "import time\n",
    "from datetime import datetime\n",
    "\n",
    "# process to perform\n",
    "def wait_and_print():\n",
    "    wait_time = random.randint(1, 5)\n",
    "    time.sleep(wait_time)\n",
    "    current_time = datetime.now().strftime(\"%H:%M:%S\")\n",
    "    print(f\"Process {multiprocessing.current_process().name} waited for {wait_time} seconds and printed at {current_time}\")\n",
    "\n",
    "if __name__ == '__main__':\n",
    "    \n",
    "    # declare\n",
    "    processes = []\n",
    "    \n",
    "    # loop through 3 processes\n",
    "    for i in range(3):\n",
    "        \n",
    "        # creating process\n",
    "        p = multiprocessing.Process(target = wait_and_print(), name = f\"Process-{i+1}\")\n",
    "        \n",
    "        # append process to the list\n",
    "        processes.append(p)\n",
    "        \n",
    "        # start the process\n",
    "        p.start()\n",
    "        \n",
    "    print(processes)\n",
    "    \n",
    "    \"\"\"this is the conventional way to synchronize the execution and ensure all \n",
    "        child processes have completed their tasks before proceeding further. \n",
    "        For this code it is not necessary though. Because our processes already stopped properly.\n",
    "    \"\"\"\n",
    "    for p in processes:\n",
    "        p.join()\n"
   ]
  },
  {
   "cell_type": "markdown",
   "id": "759a8943",
   "metadata": {},
   "source": [
    "## 7. Create a date object of your day of birth"
   ]
  },
  {
   "cell_type": "code",
   "execution_count": 33,
   "id": "63ba6189",
   "metadata": {},
   "outputs": [
    {
     "name": "stdout",
     "output_type": "stream",
     "text": [
      "1996-03-18\n"
     ]
    }
   ],
   "source": [
    "from datetime import date\n",
    "\n",
    "# create a variable \n",
    "birth_date = date(1996, 3, 18)\n",
    "\n",
    "# print date of birth\n",
    "print(birth_date)"
   ]
  },
  {
   "cell_type": "markdown",
   "id": "26a5c1f4",
   "metadata": {},
   "source": [
    "## 8. What day of the week was your day of birth?"
   ]
  },
  {
   "cell_type": "code",
   "execution_count": 36,
   "id": "10f837e8",
   "metadata": {},
   "outputs": [
    {
     "name": "stdout",
     "output_type": "stream",
     "text": [
      "Monday\n"
     ]
    }
   ],
   "source": [
    "day_of_birth = birth_date.strftime(\"%A\")\n",
    "\n",
    "# get the day of the week (0 = Monday, 6 = Sunday)\n",
    "print(day_of_birth)"
   ]
  },
  {
   "cell_type": "markdown",
   "id": "0d1ec95c",
   "metadata": {},
   "source": [
    "## 9. When will you be (or when were you) 10,000 days old?"
   ]
  },
  {
   "cell_type": "code",
   "execution_count": 37,
   "id": "b84df13d",
   "metadata": {},
   "outputs": [
    {
     "name": "stdout",
     "output_type": "stream",
     "text": [
      "2023-08-04\n"
     ]
    }
   ],
   "source": [
    "import datetime \n",
    "\n",
    "target_date = datetime.timedelta(days = 10000) + birth_date\n",
    "\n",
    "print(target_date)"
   ]
  }
 ],
 "metadata": {
  "kernelspec": {
   "display_name": "Python 3 (ipykernel)",
   "language": "python",
   "name": "python3"
  },
  "language_info": {
   "codemirror_mode": {
    "name": "ipython",
    "version": 3
   },
   "file_extension": ".py",
   "mimetype": "text/x-python",
   "name": "python",
   "nbconvert_exporter": "python",
   "pygments_lexer": "ipython3",
   "version": "3.8.10"
  }
 },
 "nbformat": 4,
 "nbformat_minor": 5
}
